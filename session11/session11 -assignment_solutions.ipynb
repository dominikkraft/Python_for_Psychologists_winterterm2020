{
 "cells": [
  {
   "cell_type": "markdown",
   "metadata": {},
   "source": [
    "# Session 11 - handling dataframes - assignment\n",
    "\n"
   ]
  },
  {
   "cell_type": "markdown",
   "metadata": {},
   "source": [
    "Please load the final.csv into a dataframe"
   ]
  },
  {
   "cell_type": "code",
   "execution_count": 3,
   "metadata": {},
   "outputs": [],
   "source": [
    "import pandas as pd"
   ]
  },
  {
   "cell_type": "code",
   "execution_count": 5,
   "metadata": {},
   "outputs": [],
   "source": [
    "df = pd.read_csv(\"/Users/Dominik/Documents/daten_python/final.csv\", sep=\",\")"
   ]
  },
  {
   "cell_type": "code",
   "execution_count": null,
   "metadata": {},
   "outputs": [],
   "source": [
    "##### please load dataframe for this assignment #### \n",
    "\n",
    "### there will be also one \"final.csv\" on github, just in case "
   ]
  },
  {
   "cell_type": "markdown",
   "metadata": {},
   "source": [
    "## exercise 1 "
   ]
  },
  {
   "cell_type": "markdown",
   "metadata": {},
   "source": [
    "Create a new empty (i.e. containing only zeros) dataframe column called **log_rt** and use a list comprehension to *log* transform your RT and write it to the new column"
   ]
  },
  {
   "cell_type": "code",
   "execution_count": 1,
   "metadata": {},
   "outputs": [
    {
     "data": {
      "text/plain": [
       "2.302585092994046"
      ]
     },
     "execution_count": 1,
     "metadata": {},
     "output_type": "execute_result"
    }
   ],
   "source": [
    "from numpy import log\n",
    "\n",
    "log(10) ### the log transformation works just like this"
   ]
  },
  {
   "cell_type": "code",
   "execution_count": 6,
   "metadata": {},
   "outputs": [
    {
     "data": {
      "text/html": [
       "<div>\n",
       "<style scoped>\n",
       "    .dataframe tbody tr th:only-of-type {\n",
       "        vertical-align: middle;\n",
       "    }\n",
       "\n",
       "    .dataframe tbody tr th {\n",
       "        vertical-align: top;\n",
       "    }\n",
       "\n",
       "    .dataframe thead th {\n",
       "        text-align: right;\n",
       "    }\n",
       "</style>\n",
       "<table border=\"1\" class=\"dataframe\">\n",
       "  <thead>\n",
       "    <tr style=\"text-align: right;\">\n",
       "      <th></th>\n",
       "      <th>Unnamed: 0</th>\n",
       "      <th>vpn_number</th>\n",
       "      <th>trial</th>\n",
       "      <th>condition</th>\n",
       "      <th>correct_key</th>\n",
       "      <th>key</th>\n",
       "      <th>rt</th>\n",
       "      <th>iscorrect</th>\n",
       "      <th>accuracy</th>\n",
       "      <th>error_rate</th>\n",
       "      <th>log_rt</th>\n",
       "    </tr>\n",
       "  </thead>\n",
       "  <tbody>\n",
       "    <tr>\n",
       "      <td>0</td>\n",
       "      <td>0</td>\n",
       "      <td>1</td>\n",
       "      <td>0</td>\n",
       "      <td>pictures</td>\n",
       "      <td>l</td>\n",
       "      <td>s</td>\n",
       "      <td>1.601210</td>\n",
       "      <td>False</td>\n",
       "      <td>0.98</td>\n",
       "      <td>0.02</td>\n",
       "      <td>0.470760</td>\n",
       "    </tr>\n",
       "    <tr>\n",
       "      <td>1</td>\n",
       "      <td>1</td>\n",
       "      <td>1</td>\n",
       "      <td>1</td>\n",
       "      <td>pictures</td>\n",
       "      <td>l</td>\n",
       "      <td>l</td>\n",
       "      <td>0.809813</td>\n",
       "      <td>True</td>\n",
       "      <td>0.98</td>\n",
       "      <td>0.02</td>\n",
       "      <td>-0.210952</td>\n",
       "    </tr>\n",
       "    <tr>\n",
       "      <td>2</td>\n",
       "      <td>2</td>\n",
       "      <td>1</td>\n",
       "      <td>2</td>\n",
       "      <td>pictures</td>\n",
       "      <td>l</td>\n",
       "      <td>l</td>\n",
       "      <td>0.624212</td>\n",
       "      <td>True</td>\n",
       "      <td>0.98</td>\n",
       "      <td>0.02</td>\n",
       "      <td>-0.471265</td>\n",
       "    </tr>\n",
       "    <tr>\n",
       "      <td>3</td>\n",
       "      <td>3</td>\n",
       "      <td>1</td>\n",
       "      <td>3</td>\n",
       "      <td>pictures</td>\n",
       "      <td>l</td>\n",
       "      <td>l</td>\n",
       "      <td>0.537913</td>\n",
       "      <td>True</td>\n",
       "      <td>0.98</td>\n",
       "      <td>0.02</td>\n",
       "      <td>-0.620058</td>\n",
       "    </tr>\n",
       "    <tr>\n",
       "      <td>4</td>\n",
       "      <td>4</td>\n",
       "      <td>1</td>\n",
       "      <td>4</td>\n",
       "      <td>words</td>\n",
       "      <td>s</td>\n",
       "      <td>s</td>\n",
       "      <td>0.536464</td>\n",
       "      <td>True</td>\n",
       "      <td>0.98</td>\n",
       "      <td>0.02</td>\n",
       "      <td>-0.622756</td>\n",
       "    </tr>\n",
       "  </tbody>\n",
       "</table>\n",
       "</div>"
      ],
      "text/plain": [
       "   Unnamed: 0  vpn_number  trial condition correct_key key        rt  \\\n",
       "0           0           1      0  pictures           l   s  1.601210   \n",
       "1           1           1      1  pictures           l   l  0.809813   \n",
       "2           2           1      2  pictures           l   l  0.624212   \n",
       "3           3           1      3  pictures           l   l  0.537913   \n",
       "4           4           1      4     words           s   s  0.536464   \n",
       "\n",
       "   iscorrect  accuracy  error_rate    log_rt  \n",
       "0      False      0.98        0.02  0.470760  \n",
       "1       True      0.98        0.02 -0.210952  \n",
       "2       True      0.98        0.02 -0.471265  \n",
       "3       True      0.98        0.02 -0.620058  \n",
       "4       True      0.98        0.02 -0.622756  "
      ]
     },
     "execution_count": 6,
     "metadata": {},
     "output_type": "execute_result"
    }
   ],
   "source": [
    "df[\"log_rt\"] = 0\n",
    "df[\"log_rt\"] = [log(rt) for rt in df[\"rt\"]]\n",
    "df.head()"
   ]
  },
  {
   "cell_type": "markdown",
   "metadata": {},
   "source": [
    "## exercise 2"
   ]
  },
  {
   "cell_type": "markdown",
   "metadata": {},
   "source": [
    "Use a simple histogram to plot both RT and your log_transformed RT separately (please specify bins=100 for your plot)"
   ]
  },
  {
   "cell_type": "code",
   "execution_count": 14,
   "metadata": {},
   "outputs": [
    {
     "data": {
      "text/plain": [
       "<matplotlib.axes._subplots.AxesSubplot at 0x11f86f278>"
      ]
     },
     "execution_count": 14,
     "metadata": {},
     "output_type": "execute_result"
    },
    {
     "data": {
      "image/png": "[encoded data removed]",
      "text/plain": [
       "<Figure size 432x288 with 1 Axes>"
      ]
     },
     "metadata": {
      "needs_background": "light"
     },
     "output_type": "display_data"
    }
   ],
   "source": [
    "df[\"rt\"].hist(bins=100)"
   ]
  },
  {
   "cell_type": "code",
   "execution_count": 15,
   "metadata": {},
   "outputs": [
    {
     "data": {
      "text/plain": [
       "<matplotlib.axes._subplots.AxesSubplot at 0x11fad7128>"
      ]
     },
     "execution_count": 15,
     "metadata": {},
     "output_type": "execute_result"
    },
    {
     "data": {
      "image/png": "[encoded data removed]",
      "text/plain": [
       "<Figure size 432x288 with 1 Axes>"
      ]
     },
     "metadata": {
      "needs_background": "light"
     },
     "output_type": "display_data"
    }
   ],
   "source": [
    "df[\"log_rt\"].hist(bins=100)"
   ]
  },
  {
   "cell_type": "markdown",
   "metadata": {},
   "source": [
    "## exercise 3 "
   ]
  },
  {
   "cell_type": "markdown",
   "metadata": {},
   "source": [
    "Please describe why one could use the log transformation (i.e. from a statistical point of view).\n",
    "\n",
    "Please write a short text using ```.format() ```twice. Use both elements from the formatlist by indexing. "
   ]
  },
  {
   "cell_type": "code",
   "execution_count": 16,
   "metadata": {},
   "outputs": [],
   "source": [
    "formatlist= [\"normally distributed\" , \"log_transformation\"]"
   ]
  },
  {
   "cell_type": "code",
   "execution_count": 20,
   "metadata": {},
   "outputs": [
    {
     "data": {
      "text/plain": [
       "'After the log_transformation our RT is (more or less) normally distributed '"
      ]
     },
     "execution_count": 20,
     "metadata": {},
     "output_type": "execute_result"
    }
   ],
   "source": [
    "\"After the {} our RT is (more or less) {} \".format(formatlist[1], formatlist[0])"
   ]
  },
  {
   "cell_type": "markdown",
   "metadata": {},
   "source": [
    "## exercise 4"
   ]
  },
  {
   "cell_type": "markdown",
   "metadata": {},
   "source": [
    "Create a new column that contains a random string (e.g. \"lala\") if a picture was shown and the RT was higher than 0.5.\n",
    "\n",
    "Use a list comprehension and keep in mind that you want to iterate over two columns at the same time (i.e. you need to use zip) "
   ]
  },
  {
   "cell_type": "markdown",
   "metadata": {},
   "source": [
    "To see how ```zip``` works, see below. Keep in mind that zip() only returns an iterator to save memory, to check the zipped results, one could create a list. \n",
    "\n",
    "Using a for loop (or list comprehension) one print tuple by tuple (1) or directly assess each individual object inside a tuple (2)"
   ]
  },
  {
   "cell_type": "code",
   "execution_count": 8,
   "metadata": {},
   "outputs": [
    {
     "name": "stdout",
     "output_type": "stream",
     "text": [
      "[('a', 1), ('b', 2), ('c', 3)]\n",
      "---1-\n",
      "('a', 1)\n",
      "('b', 2)\n",
      "('c', 3)\n",
      "---2-\n",
      "a\n",
      "1\n",
      "b\n",
      "2\n",
      "c\n",
      "3\n"
     ]
    }
   ],
   "source": [
    "liste1 = [\"a\", \"b\", \"c\"]\n",
    "liste2 = [1,2,3]\n",
    "\n",
    "print(list(zip(liste1,liste2)))\n",
    "print(\"---1-\")\n",
    "\n",
    "for tup in zip(liste1,liste2):\n",
    "    print(tup)\n",
    "    \n",
    "print(\"---2-\")\n",
    "\n",
    "for tu1,tu2 in zip(liste1,liste2):\n",
    "    print(tu1)\n",
    "    print(tu2)"
   ]
  },
  {
   "cell_type": "code",
   "execution_count": 21,
   "metadata": {},
   "outputs": [
    {
     "data": {
      "text/html": [
       "<div>\n",
       "<style scoped>\n",
       "    .dataframe tbody tr th:only-of-type {\n",
       "        vertical-align: middle;\n",
       "    }\n",
       "\n",
       "    .dataframe tbody tr th {\n",
       "        vertical-align: top;\n",
       "    }\n",
       "\n",
       "    .dataframe thead th {\n",
       "        text-align: right;\n",
       "    }\n",
       "</style>\n",
       "<table border=\"1\" class=\"dataframe\">\n",
       "  <thead>\n",
       "    <tr style=\"text-align: right;\">\n",
       "      <th></th>\n",
       "      <th>Unnamed: 0</th>\n",
       "      <th>vpn_number</th>\n",
       "      <th>trial</th>\n",
       "      <th>condition</th>\n",
       "      <th>correct_key</th>\n",
       "      <th>key</th>\n",
       "      <th>rt</th>\n",
       "      <th>iscorrect</th>\n",
       "      <th>accuracy</th>\n",
       "      <th>error_rate</th>\n",
       "      <th>log_rt</th>\n",
       "    </tr>\n",
       "  </thead>\n",
       "  <tbody>\n",
       "    <tr>\n",
       "      <td>0</td>\n",
       "      <td>0</td>\n",
       "      <td>1</td>\n",
       "      <td>0</td>\n",
       "      <td>pictures</td>\n",
       "      <td>l</td>\n",
       "      <td>s</td>\n",
       "      <td>1.601210</td>\n",
       "      <td>False</td>\n",
       "      <td>0.98</td>\n",
       "      <td>0.02</td>\n",
       "      <td>0.470760</td>\n",
       "    </tr>\n",
       "    <tr>\n",
       "      <td>1</td>\n",
       "      <td>1</td>\n",
       "      <td>1</td>\n",
       "      <td>1</td>\n",
       "      <td>pictures</td>\n",
       "      <td>l</td>\n",
       "      <td>l</td>\n",
       "      <td>0.809813</td>\n",
       "      <td>True</td>\n",
       "      <td>0.98</td>\n",
       "      <td>0.02</td>\n",
       "      <td>-0.210952</td>\n",
       "    </tr>\n",
       "    <tr>\n",
       "      <td>2</td>\n",
       "      <td>2</td>\n",
       "      <td>1</td>\n",
       "      <td>2</td>\n",
       "      <td>pictures</td>\n",
       "      <td>l</td>\n",
       "      <td>l</td>\n",
       "      <td>0.624212</td>\n",
       "      <td>True</td>\n",
       "      <td>0.98</td>\n",
       "      <td>0.02</td>\n",
       "      <td>-0.471265</td>\n",
       "    </tr>\n",
       "    <tr>\n",
       "      <td>3</td>\n",
       "      <td>3</td>\n",
       "      <td>1</td>\n",
       "      <td>3</td>\n",
       "      <td>pictures</td>\n",
       "      <td>l</td>\n",
       "      <td>l</td>\n",
       "      <td>0.537913</td>\n",
       "      <td>True</td>\n",
       "      <td>0.98</td>\n",
       "      <td>0.02</td>\n",
       "      <td>-0.620058</td>\n",
       "    </tr>\n",
       "    <tr>\n",
       "      <td>4</td>\n",
       "      <td>4</td>\n",
       "      <td>1</td>\n",
       "      <td>4</td>\n",
       "      <td>words</td>\n",
       "      <td>s</td>\n",
       "      <td>s</td>\n",
       "      <td>0.536464</td>\n",
       "      <td>True</td>\n",
       "      <td>0.98</td>\n",
       "      <td>0.02</td>\n",
       "      <td>-0.622756</td>\n",
       "    </tr>\n",
       "  </tbody>\n",
       "</table>\n",
       "</div>"
      ],
      "text/plain": [
       "   Unnamed: 0  vpn_number  trial condition correct_key key        rt  \\\n",
       "0           0           1      0  pictures           l   s  1.601210   \n",
       "1           1           1      1  pictures           l   l  0.809813   \n",
       "2           2           1      2  pictures           l   l  0.624212   \n",
       "3           3           1      3  pictures           l   l  0.537913   \n",
       "4           4           1      4     words           s   s  0.536464   \n",
       "\n",
       "   iscorrect  accuracy  error_rate    log_rt  \n",
       "0      False      0.98        0.02  0.470760  \n",
       "1       True      0.98        0.02 -0.210952  \n",
       "2       True      0.98        0.02 -0.471265  \n",
       "3       True      0.98        0.02 -0.620058  \n",
       "4       True      0.98        0.02 -0.622756  "
      ]
     },
     "execution_count": 21,
     "metadata": {},
     "output_type": "execute_result"
    }
   ],
   "source": [
    "df.head()"
   ]
  },
  {
   "cell_type": "code",
   "execution_count": 31,
   "metadata": {},
   "outputs": [],
   "source": [
    "df[\"new\"] = [\"lala\" if a.startswith(\"pic\") and b > 0.5 else \"nana\" for a, b in zip(df[\"condition\"], df[\"rt\"])]"
   ]
  },
  {
   "cell_type": "code",
   "execution_count": null,
   "metadata": {},
   "outputs": [],
   "source": []
  }
 ],
 "metadata": {
  "kernelspec": {
   "display_name": "Python 3",
   "language": "python",
   "name": "python3"
  },
  "language_info": {
   "codemirror_mode": {
    "name": "ipython",
    "version": 3
   },
   "file_extension": ".py",
   "mimetype": "text/x-python",
   "name": "python",
   "nbconvert_exporter": "python",
   "pygments_lexer": "ipython3",
   "version": "3.7.6"
  }
 },
 "nbformat": 4,
 "nbformat_minor": 2
}
